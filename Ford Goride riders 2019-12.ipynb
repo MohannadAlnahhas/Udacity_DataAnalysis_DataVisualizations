{
 "cells": [
  {
   "cell_type": "markdown",
   "metadata": {},
   "source": [
    "# (Ford GoBike 2019-12 Data)\n",
    "## by (Mohannad Alnahhas)\n",
    "\n",
    "## Preliminary Wrangling\n",
    "\n",
    "> The Data set is gathered from [Ford Gobike](https://s3.amazonaws.com/baywheels-data/index.html) website. The data has information of bike rider renters. Its features are rent duration, start destination, end destination, user type, bike id, longitude and latitude, and rental method. The website provide history of data. Unfortunately, most features of the data are categorical. Thus, I may not have a chance to inspect 2 quantitative variables. I have chosen to analyze and inspect 2019-12 data. In this report I will inspect the data and visualize the outcomes. "
   ]
  },
  {
   "cell_type": "code",
   "execution_count": 1,
   "metadata": {},
   "outputs": [],
   "source": [
    "# import all packages and set plots to be embedded inline\n",
    "import numpy as np\n",
    "import pandas as pd\n",
    "import matplotlib.pyplot as plt\n",
    "import seaborn as sb\n",
    "import zipfile as zf\n",
    "import glob\n",
    "import os\n",
    "import io\n",
    "import requests\n",
    "\n",
    "%matplotlib inline"
   ]
  },
  {
   "cell_type": "code",
   "execution_count": 2,
   "metadata": {},
   "outputs": [
    {
     "name": "stdout",
     "output_type": "stream",
     "text": [
      "<Response [200]>\n"
     ]
    }
   ],
   "source": [
    "#Since github upload size limit is 25MB\n",
    "# I will scrape the data directly from the website\n",
    "response= requests.get('https://s3.amazonaws.com/baywheels-data/201912-baywheels-tripdata.csv.zip', stream= True)\n",
    "print(response)\n",
    "\n",
    "with zf.ZipFile(io.BytesIO(response.content)) as myzip:\n",
    "    myzip.extractall() #After running this code, you'll find 1 folder and 1 csv file\n",
    "    # If you are using windows, you can delete the folder, but don't change the csv file name."
   ]
  },
  {
   "cell_type": "code",
   "execution_count": 3,
   "metadata": {},
   "outputs": [
    {
     "name": "stderr",
     "output_type": "stream",
     "text": [
      "C:\\Users\\mohan\\anaconda3\\lib\\site-packages\\IPython\\core\\interactiveshell.py:3063: DtypeWarning: Columns (13) have mixed types.Specify dtype option on import or set low_memory=False.\n",
      "  interactivity=interactivity, compiler=compiler, result=result)\n"
     ]
    }
   ],
   "source": [
    "df= pd.read_csv('201912-baywheels-tripdata.csv') # Read the file"
   ]
  },
  {
   "cell_type": "code",
   "execution_count": 4,
   "metadata": {},
   "outputs": [
    {
     "data": {
      "text/html": [
       "<div>\n",
       "<style scoped>\n",
       "    .dataframe tbody tr th:only-of-type {\n",
       "        vertical-align: middle;\n",
       "    }\n",
       "\n",
       "    .dataframe tbody tr th {\n",
       "        vertical-align: top;\n",
       "    }\n",
       "\n",
       "    .dataframe thead th {\n",
       "        text-align: right;\n",
       "    }\n",
       "</style>\n",
       "<table border=\"1\" class=\"dataframe\">\n",
       "  <thead>\n",
       "    <tr style=\"text-align: right;\">\n",
       "      <th></th>\n",
       "      <th>duration_sec</th>\n",
       "      <th>start_time</th>\n",
       "      <th>end_time</th>\n",
       "      <th>start_station_id</th>\n",
       "      <th>start_station_name</th>\n",
       "      <th>start_station_latitude</th>\n",
       "      <th>start_station_longitude</th>\n",
       "      <th>end_station_id</th>\n",
       "      <th>end_station_name</th>\n",
       "      <th>end_station_latitude</th>\n",
       "      <th>end_station_longitude</th>\n",
       "      <th>bike_id</th>\n",
       "      <th>user_type</th>\n",
       "      <th>rental_access_method</th>\n",
       "    </tr>\n",
       "  </thead>\n",
       "  <tbody>\n",
       "    <tr>\n",
       "      <th>0</th>\n",
       "      <td>66600</td>\n",
       "      <td>2019-12-31 14:28:50.2860</td>\n",
       "      <td>2020-01-01 08:58:51.2500</td>\n",
       "      <td>364.0</td>\n",
       "      <td>China Basin St at 3rd St</td>\n",
       "      <td>37.772000</td>\n",
       "      <td>-122.389970</td>\n",
       "      <td>349.0</td>\n",
       "      <td>Howard St at Mary St</td>\n",
       "      <td>37.781010</td>\n",
       "      <td>-122.405666</td>\n",
       "      <td>12085</td>\n",
       "      <td>Customer</td>\n",
       "      <td>NaN</td>\n",
       "    </tr>\n",
       "    <tr>\n",
       "      <th>1</th>\n",
       "      <td>36526</td>\n",
       "      <td>2019-12-31 21:52:47.7620</td>\n",
       "      <td>2020-01-01 08:01:33.9320</td>\n",
       "      <td>38.0</td>\n",
       "      <td>The Embarcadero at Pier 38</td>\n",
       "      <td>37.782926</td>\n",
       "      <td>-122.387921</td>\n",
       "      <td>410.0</td>\n",
       "      <td>Illinois St at Cesar Chavez St</td>\n",
       "      <td>37.750200</td>\n",
       "      <td>-122.386567</td>\n",
       "      <td>9477</td>\n",
       "      <td>Customer</td>\n",
       "      <td>NaN</td>\n",
       "    </tr>\n",
       "    <tr>\n",
       "      <th>2</th>\n",
       "      <td>8164</td>\n",
       "      <td>2019-12-31 23:50:04.8770</td>\n",
       "      <td>2020-01-01 02:06:09.4140</td>\n",
       "      <td>14.0</td>\n",
       "      <td>Clay St at Battery St</td>\n",
       "      <td>37.795001</td>\n",
       "      <td>-122.399970</td>\n",
       "      <td>6.0</td>\n",
       "      <td>The Embarcadero at Sansome St</td>\n",
       "      <td>37.804770</td>\n",
       "      <td>-122.403234</td>\n",
       "      <td>10420</td>\n",
       "      <td>Customer</td>\n",
       "      <td>NaN</td>\n",
       "    </tr>\n",
       "    <tr>\n",
       "      <th>3</th>\n",
       "      <td>8163</td>\n",
       "      <td>2019-12-31 23:49:21.4000</td>\n",
       "      <td>2020-01-01 02:05:24.6670</td>\n",
       "      <td>14.0</td>\n",
       "      <td>Clay St at Battery St</td>\n",
       "      <td>37.795001</td>\n",
       "      <td>-122.399970</td>\n",
       "      <td>6.0</td>\n",
       "      <td>The Embarcadero at Sansome St</td>\n",
       "      <td>37.804770</td>\n",
       "      <td>-122.403234</td>\n",
       "      <td>2065</td>\n",
       "      <td>Customer</td>\n",
       "      <td>NaN</td>\n",
       "    </tr>\n",
       "    <tr>\n",
       "      <th>4</th>\n",
       "      <td>6847</td>\n",
       "      <td>2019-12-31 22:51:05.6850</td>\n",
       "      <td>2020-01-01 00:45:13.4860</td>\n",
       "      <td>3.0</td>\n",
       "      <td>Powell St BART Station (Market St at 4th St)</td>\n",
       "      <td>37.786375</td>\n",
       "      <td>-122.404904</td>\n",
       "      <td>363.0</td>\n",
       "      <td>Salesforce Transit Center (Natoma St at 2nd St)</td>\n",
       "      <td>37.787492</td>\n",
       "      <td>-122.398285</td>\n",
       "      <td>10219</td>\n",
       "      <td>Customer</td>\n",
       "      <td>NaN</td>\n",
       "    </tr>\n",
       "    <tr>\n",
       "      <th>...</th>\n",
       "      <td>...</td>\n",
       "      <td>...</td>\n",
       "      <td>...</td>\n",
       "      <td>...</td>\n",
       "      <td>...</td>\n",
       "      <td>...</td>\n",
       "      <td>...</td>\n",
       "      <td>...</td>\n",
       "      <td>...</td>\n",
       "      <td>...</td>\n",
       "      <td>...</td>\n",
       "      <td>...</td>\n",
       "      <td>...</td>\n",
       "      <td>...</td>\n",
       "    </tr>\n",
       "    <tr>\n",
       "      <th>150097</th>\n",
       "      <td>731</td>\n",
       "      <td>2019-12-28 18:37:29</td>\n",
       "      <td>2019-12-28 18:49:40</td>\n",
       "      <td>NaN</td>\n",
       "      <td>NaN</td>\n",
       "      <td>37.809731</td>\n",
       "      <td>-122.409855</td>\n",
       "      <td>NaN</td>\n",
       "      <td>NaN</td>\n",
       "      <td>37.807573</td>\n",
       "      <td>-122.421681</td>\n",
       "      <td>719651</td>\n",
       "      <td>Subscriber</td>\n",
       "      <td>app</td>\n",
       "    </tr>\n",
       "    <tr>\n",
       "      <th>150098</th>\n",
       "      <td>748</td>\n",
       "      <td>2019-12-28 18:37:24</td>\n",
       "      <td>2019-12-28 18:49:53</td>\n",
       "      <td>NaN</td>\n",
       "      <td>NaN</td>\n",
       "      <td>37.809768</td>\n",
       "      <td>-122.409797</td>\n",
       "      <td>NaN</td>\n",
       "      <td>NaN</td>\n",
       "      <td>37.807558</td>\n",
       "      <td>-122.421638</td>\n",
       "      <td>655411</td>\n",
       "      <td>Subscriber</td>\n",
       "      <td>app</td>\n",
       "    </tr>\n",
       "    <tr>\n",
       "      <th>150099</th>\n",
       "      <td>1044</td>\n",
       "      <td>2019-12-26 14:25:37</td>\n",
       "      <td>2019-12-26 14:43:02</td>\n",
       "      <td>NaN</td>\n",
       "      <td>NaN</td>\n",
       "      <td>37.810183</td>\n",
       "      <td>-122.410271</td>\n",
       "      <td>NaN</td>\n",
       "      <td>NaN</td>\n",
       "      <td>37.807225</td>\n",
       "      <td>-122.408850</td>\n",
       "      <td>936881</td>\n",
       "      <td>Subscriber</td>\n",
       "      <td>app</td>\n",
       "    </tr>\n",
       "    <tr>\n",
       "      <th>150100</th>\n",
       "      <td>326</td>\n",
       "      <td>2019-12-30 20:35:43</td>\n",
       "      <td>2019-12-30 20:41:09</td>\n",
       "      <td>NaN</td>\n",
       "      <td>NaN</td>\n",
       "      <td>37.810471</td>\n",
       "      <td>-122.417386</td>\n",
       "      <td>NaN</td>\n",
       "      <td>NaN</td>\n",
       "      <td>37.803143</td>\n",
       "      <td>-122.414373</td>\n",
       "      <td>397539</td>\n",
       "      <td>Subscriber</td>\n",
       "      <td>app</td>\n",
       "    </tr>\n",
       "    <tr>\n",
       "      <th>150101</th>\n",
       "      <td>4023</td>\n",
       "      <td>2019-12-31 19:26:48</td>\n",
       "      <td>2019-12-31 20:33:52</td>\n",
       "      <td>NaN</td>\n",
       "      <td>NaN</td>\n",
       "      <td>37.811042</td>\n",
       "      <td>-122.418149</td>\n",
       "      <td>NaN</td>\n",
       "      <td>NaN</td>\n",
       "      <td>37.810970</td>\n",
       "      <td>-122.418054</td>\n",
       "      <td>662304</td>\n",
       "      <td>Subscriber</td>\n",
       "      <td>app</td>\n",
       "    </tr>\n",
       "  </tbody>\n",
       "</table>\n",
       "<p>150102 rows × 14 columns</p>\n",
       "</div>"
      ],
      "text/plain": [
       "        duration_sec                start_time                  end_time  \\\n",
       "0              66600  2019-12-31 14:28:50.2860  2020-01-01 08:58:51.2500   \n",
       "1              36526  2019-12-31 21:52:47.7620  2020-01-01 08:01:33.9320   \n",
       "2               8164  2019-12-31 23:50:04.8770  2020-01-01 02:06:09.4140   \n",
       "3               8163  2019-12-31 23:49:21.4000  2020-01-01 02:05:24.6670   \n",
       "4               6847  2019-12-31 22:51:05.6850  2020-01-01 00:45:13.4860   \n",
       "...              ...                       ...                       ...   \n",
       "150097           731       2019-12-28 18:37:29       2019-12-28 18:49:40   \n",
       "150098           748       2019-12-28 18:37:24       2019-12-28 18:49:53   \n",
       "150099          1044       2019-12-26 14:25:37       2019-12-26 14:43:02   \n",
       "150100           326       2019-12-30 20:35:43       2019-12-30 20:41:09   \n",
       "150101          4023       2019-12-31 19:26:48       2019-12-31 20:33:52   \n",
       "\n",
       "        start_station_id                            start_station_name  \\\n",
       "0                  364.0                      China Basin St at 3rd St   \n",
       "1                   38.0                    The Embarcadero at Pier 38   \n",
       "2                   14.0                         Clay St at Battery St   \n",
       "3                   14.0                         Clay St at Battery St   \n",
       "4                    3.0  Powell St BART Station (Market St at 4th St)   \n",
       "...                  ...                                           ...   \n",
       "150097               NaN                                           NaN   \n",
       "150098               NaN                                           NaN   \n",
       "150099               NaN                                           NaN   \n",
       "150100               NaN                                           NaN   \n",
       "150101               NaN                                           NaN   \n",
       "\n",
       "        start_station_latitude  start_station_longitude  end_station_id  \\\n",
       "0                    37.772000              -122.389970           349.0   \n",
       "1                    37.782926              -122.387921           410.0   \n",
       "2                    37.795001              -122.399970             6.0   \n",
       "3                    37.795001              -122.399970             6.0   \n",
       "4                    37.786375              -122.404904           363.0   \n",
       "...                        ...                      ...             ...   \n",
       "150097               37.809731              -122.409855             NaN   \n",
       "150098               37.809768              -122.409797             NaN   \n",
       "150099               37.810183              -122.410271             NaN   \n",
       "150100               37.810471              -122.417386             NaN   \n",
       "150101               37.811042              -122.418149             NaN   \n",
       "\n",
       "                                       end_station_name  end_station_latitude  \\\n",
       "0                                  Howard St at Mary St             37.781010   \n",
       "1                        Illinois St at Cesar Chavez St             37.750200   \n",
       "2                         The Embarcadero at Sansome St             37.804770   \n",
       "3                         The Embarcadero at Sansome St             37.804770   \n",
       "4       Salesforce Transit Center (Natoma St at 2nd St)             37.787492   \n",
       "...                                                 ...                   ...   \n",
       "150097                                              NaN             37.807573   \n",
       "150098                                              NaN             37.807558   \n",
       "150099                                              NaN             37.807225   \n",
       "150100                                              NaN             37.803143   \n",
       "150101                                              NaN             37.810970   \n",
       "\n",
       "        end_station_longitude  bike_id   user_type rental_access_method  \n",
       "0                 -122.405666    12085    Customer                  NaN  \n",
       "1                 -122.386567     9477    Customer                  NaN  \n",
       "2                 -122.403234    10420    Customer                  NaN  \n",
       "3                 -122.403234     2065    Customer                  NaN  \n",
       "4                 -122.398285    10219    Customer                  NaN  \n",
       "...                       ...      ...         ...                  ...  \n",
       "150097            -122.421681   719651  Subscriber                  app  \n",
       "150098            -122.421638   655411  Subscriber                  app  \n",
       "150099            -122.408850   936881  Subscriber                  app  \n",
       "150100            -122.414373   397539  Subscriber                  app  \n",
       "150101            -122.418054   662304  Subscriber                  app  \n",
       "\n",
       "[150102 rows x 14 columns]"
      ]
     },
     "execution_count": 4,
     "metadata": {},
     "output_type": "execute_result"
    }
   ],
   "source": [
    "df "
   ]
  },
  {
   "cell_type": "markdown",
   "metadata": {},
   "source": [
    "## Data Wrangling"
   ]
  },
  {
   "cell_type": "markdown",
   "metadata": {},
   "source": [
    "### Creating duration in minutes instead of seconds\n",
    "Because it is easier for us to understand the unit minutes than seconds"
   ]
  },
  {
   "cell_type": "code",
   "execution_count": 5,
   "metadata": {},
   "outputs": [],
   "source": [
    "minutes= df['duration_sec']/60\n",
    "minutes= minutes.round()\n",
    "minutes= minutes.astype(int)\n",
    "\n",
    "df.insert(1, 'duration_min', minutes)"
   ]
  },
  {
   "cell_type": "code",
   "execution_count": 6,
   "metadata": {},
   "outputs": [
    {
     "name": "stdout",
     "output_type": "stream",
     "text": [
      "<class 'pandas.core.frame.DataFrame'>\n",
      "RangeIndex: 150102 entries, 0 to 150101\n",
      "Data columns (total 15 columns):\n",
      " #   Column                   Non-Null Count   Dtype  \n",
      "---  ------                   --------------   -----  \n",
      " 0   duration_sec             150102 non-null  int64  \n",
      " 1   duration_min             150102 non-null  int32  \n",
      " 2   start_time               150102 non-null  object \n",
      " 3   end_time                 150102 non-null  object \n",
      " 4   start_station_id         129083 non-null  float64\n",
      " 5   start_station_name       129087 non-null  object \n",
      " 6   start_station_latitude   150102 non-null  float64\n",
      " 7   start_station_longitude  150102 non-null  float64\n",
      " 8   end_station_id           128755 non-null  float64\n",
      " 9   end_station_name         128757 non-null  object \n",
      " 10  end_station_latitude     150102 non-null  float64\n",
      " 11  end_station_longitude    150102 non-null  float64\n",
      " 12  bike_id                  150102 non-null  int64  \n",
      " 13  user_type                150102 non-null  object \n",
      " 14  rental_access_method     27681 non-null   object \n",
      "dtypes: float64(6), int32(1), int64(2), object(6)\n",
      "memory usage: 16.6+ MB\n"
     ]
    }
   ],
   "source": [
    "df.info()"
   ]
  },
  {
   "cell_type": "markdown",
   "metadata": {},
   "source": [
    "### Splitting timestamp (start_time, end_time columns) to (start_date, start_time, end_date, end_time)"
   ]
  },
  {
   "cell_type": "code",
   "execution_count": 7,
   "metadata": {},
   "outputs": [],
   "source": [
    "df.start_time= pd.to_datetime(df.start_time)\n",
    "df.end_time= pd.to_datetime(df.end_time)"
   ]
  },
  {
   "cell_type": "code",
   "execution_count": 8,
   "metadata": {},
   "outputs": [],
   "source": [
    "df.start_time= df.start_time.dt.round('T')\n",
    "df.end_time= df.end_time.dt.round('T')"
   ]
  },
  {
   "cell_type": "code",
   "execution_count": 9,
   "metadata": {},
   "outputs": [],
   "source": [
    "df.insert(2, 'start_date', df.start_time.dt.date)\n",
    "df.start_time= df.start_time.dt.time"
   ]
  },
  {
   "cell_type": "code",
   "execution_count": 10,
   "metadata": {},
   "outputs": [],
   "source": [
    "df.insert(4, 'end_date', df.end_time.dt.date)"
   ]
  },
  {
   "cell_type": "code",
   "execution_count": 11,
   "metadata": {},
   "outputs": [],
   "source": [
    "df.end_time= df.end_time.dt.time"
   ]
  },
  {
   "cell_type": "code",
   "execution_count": 12,
   "metadata": {},
   "outputs": [
    {
     "data": {
      "text/html": [
       "<div>\n",
       "<style scoped>\n",
       "    .dataframe tbody tr th:only-of-type {\n",
       "        vertical-align: middle;\n",
       "    }\n",
       "\n",
       "    .dataframe tbody tr th {\n",
       "        vertical-align: top;\n",
       "    }\n",
       "\n",
       "    .dataframe thead th {\n",
       "        text-align: right;\n",
       "    }\n",
       "</style>\n",
       "<table border=\"1\" class=\"dataframe\">\n",
       "  <thead>\n",
       "    <tr style=\"text-align: right;\">\n",
       "      <th></th>\n",
       "      <th>duration_sec</th>\n",
       "      <th>duration_min</th>\n",
       "      <th>start_date</th>\n",
       "      <th>start_time</th>\n",
       "      <th>end_date</th>\n",
       "      <th>end_time</th>\n",
       "      <th>start_station_id</th>\n",
       "      <th>start_station_name</th>\n",
       "      <th>start_station_latitude</th>\n",
       "      <th>start_station_longitude</th>\n",
       "      <th>end_station_id</th>\n",
       "      <th>end_station_name</th>\n",
       "      <th>end_station_latitude</th>\n",
       "      <th>end_station_longitude</th>\n",
       "      <th>bike_id</th>\n",
       "      <th>user_type</th>\n",
       "      <th>rental_access_method</th>\n",
       "    </tr>\n",
       "  </thead>\n",
       "  <tbody>\n",
       "    <tr>\n",
       "      <th>76181</th>\n",
       "      <td>157</td>\n",
       "      <td>3</td>\n",
       "      <td>2019-12-10</td>\n",
       "      <td>10:33:00</td>\n",
       "      <td>2019-12-10</td>\n",
       "      <td>10:36:00</td>\n",
       "      <td>380.0</td>\n",
       "      <td>Masonic Ave at Turk St</td>\n",
       "      <td>37.779047</td>\n",
       "      <td>-122.447291</td>\n",
       "      <td>375.0</td>\n",
       "      <td>Grove St at Masonic Ave</td>\n",
       "      <td>37.774836</td>\n",
       "      <td>-122.446546</td>\n",
       "      <td>12943</td>\n",
       "      <td>Customer</td>\n",
       "      <td>NaN</td>\n",
       "    </tr>\n",
       "  </tbody>\n",
       "</table>\n",
       "</div>"
      ],
      "text/plain": [
       "       duration_sec  duration_min  start_date start_time    end_date  \\\n",
       "76181           157             3  2019-12-10   10:33:00  2019-12-10   \n",
       "\n",
       "       end_time  start_station_id      start_station_name  \\\n",
       "76181  10:36:00             380.0  Masonic Ave at Turk St   \n",
       "\n",
       "       start_station_latitude  start_station_longitude  end_station_id  \\\n",
       "76181               37.779047              -122.447291           375.0   \n",
       "\n",
       "              end_station_name  end_station_latitude  end_station_longitude  \\\n",
       "76181  Grove St at Masonic Ave             37.774836            -122.446546   \n",
       "\n",
       "       bike_id user_type rental_access_method  \n",
       "76181    12943  Customer                  NaN  "
      ]
     },
     "execution_count": 12,
     "metadata": {},
     "output_type": "execute_result"
    }
   ],
   "source": [
    "df.sample(1)"
   ]
  },
  {
   "cell_type": "code",
   "execution_count": 13,
   "metadata": {},
   "outputs": [
    {
     "data": {
      "text/plain": [
       "Index(['duration_sec', 'duration_min', 'start_date', 'start_time', 'end_date',\n",
       "       'end_time', 'start_station_id', 'start_station_name',\n",
       "       'start_station_latitude', 'start_station_longitude', 'end_station_id',\n",
       "       'end_station_name', 'end_station_latitude', 'end_station_longitude',\n",
       "       'bike_id', 'user_type', 'rental_access_method'],\n",
       "      dtype='object')"
      ]
     },
     "execution_count": 13,
     "metadata": {},
     "output_type": "execute_result"
    }
   ],
   "source": [
    "df.columns"
   ]
  },
  {
   "cell_type": "markdown",
   "metadata": {},
   "source": [
    "### Deleting unnessecery columns"
   ]
  },
  {
   "cell_type": "code",
   "execution_count": 14,
   "metadata": {},
   "outputs": [],
   "source": [
    "df.drop(columns=['start_station_latitude', 'start_station_longitude', 'end_station_latitude', 'end_station_longitude', 'duration_sec', 'start_station_name', 'end_station_name'], inplace= True)"
   ]
  },
  {
   "cell_type": "code",
   "execution_count": 15,
   "metadata": {},
   "outputs": [
    {
     "name": "stdout",
     "output_type": "stream",
     "text": [
      "<class 'pandas.core.frame.DataFrame'>\n",
      "RangeIndex: 150102 entries, 0 to 150101\n",
      "Data columns (total 10 columns):\n",
      " #   Column                Non-Null Count   Dtype  \n",
      "---  ------                --------------   -----  \n",
      " 0   duration_min          150102 non-null  int32  \n",
      " 1   start_date            150102 non-null  object \n",
      " 2   start_time            150102 non-null  object \n",
      " 3   end_date              150102 non-null  object \n",
      " 4   end_time              150102 non-null  object \n",
      " 5   start_station_id      129083 non-null  float64\n",
      " 6   end_station_id        128755 non-null  float64\n",
      " 7   bike_id               150102 non-null  int64  \n",
      " 8   user_type             150102 non-null  object \n",
      " 9   rental_access_method  27681 non-null   object \n",
      "dtypes: float64(2), int32(1), int64(1), object(6)\n",
      "memory usage: 10.9+ MB\n"
     ]
    }
   ],
   "source": [
    "df.info()"
   ]
  },
  {
   "cell_type": "markdown",
   "metadata": {},
   "source": [
    "### Changing the data type of some columns"
   ]
  },
  {
   "cell_type": "code",
   "execution_count": 16,
   "metadata": {},
   "outputs": [],
   "source": [
    "df.start_station_id= df.start_station_id.astype(str) #start_station_id to type string\n",
    "df.end_station_id= df.end_station_id.astype(str) #end_station_id to type string\n",
    "df.bike_id.astype(str) #bike_id type to string\n",
    "\n",
    "df.start_station_id= df.start_station_id.str.replace('.0', '') #deleting floating point (it doesn't mean anything)\n",
    "df.end_station_id= df.end_station_id.str.replace('.0', '') #deleting floating point (it doesn't mean anything)"
   ]
  },
  {
   "cell_type": "markdown",
   "metadata": {},
   "source": [
    "### Adding columns for weekday, and day\n",
    "A little search on the internet about street names, will indicate that the bike riders are in USA San Francisco. A little search on time table of San Francisco also will result that their weekend days are Saturday and Sunday. Combining the infromation gathered, can construct two new columns. Column weekday, to indicate whether weekend or weekday. While column day, indicate the day of the week (from Monday to Sunday)."
   ]
  },
  {
   "cell_type": "code",
   "execution_count": 17,
   "metadata": {},
   "outputs": [],
   "source": [
    "df['weekday']= np.where(pd.to_datetime(df['start_date']).dt.dayofweek < 5,'weekday','weekend') #column weekday\n",
    "\n",
    "df['day']= pd.to_datetime(df.start_date).dt.dayofweek.astype(str) #column day (will output 0,1,2,3...7)\n",
    "\n",
    "days= ['mon', 'tue', 'wed', 'thu','fri', 'sat', 'sun'] #list of days\n",
    "\n",
    "for index in range(7):\n",
    "    df['day']= df.day.replace(str(index), days[index]) #decoding the numeric value to actual day"
   ]
  },
  {
   "cell_type": "markdown",
   "metadata": {},
   "source": [
    "### Counting missing values"
   ]
  },
  {
   "cell_type": "code",
   "execution_count": 18,
   "metadata": {},
   "outputs": [
    {
     "data": {
      "text/plain": [
       "duration_min                 0\n",
       "start_date                   0\n",
       "start_time                   0\n",
       "end_date                     0\n",
       "end_time                     0\n",
       "start_station_id             0\n",
       "end_station_id               0\n",
       "bike_id                      0\n",
       "user_type                    0\n",
       "rental_access_method    122421\n",
       "weekday                      0\n",
       "day                          0\n",
       "dtype: int64"
      ]
     },
     "execution_count": 18,
     "metadata": {},
     "output_type": "execute_result"
    }
   ],
   "source": [
    "df.isna().sum()"
   ]
  },
  {
   "cell_type": "code",
   "execution_count": 19,
   "metadata": {},
   "outputs": [
    {
     "data": {
      "text/html": [
       "<div>\n",
       "<style scoped>\n",
       "    .dataframe tbody tr th:only-of-type {\n",
       "        vertical-align: middle;\n",
       "    }\n",
       "\n",
       "    .dataframe tbody tr th {\n",
       "        vertical-align: top;\n",
       "    }\n",
       "\n",
       "    .dataframe thead th {\n",
       "        text-align: right;\n",
       "    }\n",
       "</style>\n",
       "<table border=\"1\" class=\"dataframe\">\n",
       "  <thead>\n",
       "    <tr style=\"text-align: right;\">\n",
       "      <th></th>\n",
       "      <th>duration_min</th>\n",
       "      <th>start_date</th>\n",
       "      <th>start_time</th>\n",
       "      <th>end_date</th>\n",
       "      <th>end_time</th>\n",
       "      <th>start_station_id</th>\n",
       "      <th>end_station_id</th>\n",
       "      <th>bike_id</th>\n",
       "      <th>user_type</th>\n",
       "      <th>rental_access_method</th>\n",
       "      <th>weekday</th>\n",
       "      <th>day</th>\n",
       "    </tr>\n",
       "  </thead>\n",
       "  <tbody>\n",
       "    <tr>\n",
       "      <th>0</th>\n",
       "      <td>1110</td>\n",
       "      <td>2019-12-31</td>\n",
       "      <td>14:29:00</td>\n",
       "      <td>2020-01-01</td>\n",
       "      <td>08:59:00</td>\n",
       "      <td>364</td>\n",
       "      <td>349</td>\n",
       "      <td>12085</td>\n",
       "      <td>Customer</td>\n",
       "      <td>NaN</td>\n",
       "      <td>weekday</td>\n",
       "      <td>tue</td>\n",
       "    </tr>\n",
       "    <tr>\n",
       "      <th>1</th>\n",
       "      <td>609</td>\n",
       "      <td>2019-12-31</td>\n",
       "      <td>21:53:00</td>\n",
       "      <td>2020-01-01</td>\n",
       "      <td>08:02:00</td>\n",
       "      <td>38</td>\n",
       "      <td>4</td>\n",
       "      <td>9477</td>\n",
       "      <td>Customer</td>\n",
       "      <td>NaN</td>\n",
       "      <td>weekday</td>\n",
       "      <td>tue</td>\n",
       "    </tr>\n",
       "    <tr>\n",
       "      <th>2</th>\n",
       "      <td>136</td>\n",
       "      <td>2019-12-31</td>\n",
       "      <td>23:50:00</td>\n",
       "      <td>2020-01-01</td>\n",
       "      <td>02:06:00</td>\n",
       "      <td>14</td>\n",
       "      <td>6</td>\n",
       "      <td>10420</td>\n",
       "      <td>Customer</td>\n",
       "      <td>NaN</td>\n",
       "      <td>weekday</td>\n",
       "      <td>tue</td>\n",
       "    </tr>\n",
       "    <tr>\n",
       "      <th>3</th>\n",
       "      <td>136</td>\n",
       "      <td>2019-12-31</td>\n",
       "      <td>23:49:00</td>\n",
       "      <td>2020-01-01</td>\n",
       "      <td>02:05:00</td>\n",
       "      <td>14</td>\n",
       "      <td>6</td>\n",
       "      <td>2065</td>\n",
       "      <td>Customer</td>\n",
       "      <td>NaN</td>\n",
       "      <td>weekday</td>\n",
       "      <td>tue</td>\n",
       "    </tr>\n",
       "    <tr>\n",
       "      <th>4</th>\n",
       "      <td>114</td>\n",
       "      <td>2019-12-31</td>\n",
       "      <td>22:51:00</td>\n",
       "      <td>2020-01-01</td>\n",
       "      <td>00:45:00</td>\n",
       "      <td>3</td>\n",
       "      <td>363</td>\n",
       "      <td>10219</td>\n",
       "      <td>Customer</td>\n",
       "      <td>NaN</td>\n",
       "      <td>weekday</td>\n",
       "      <td>tue</td>\n",
       "    </tr>\n",
       "    <tr>\n",
       "      <th>...</th>\n",
       "      <td>...</td>\n",
       "      <td>...</td>\n",
       "      <td>...</td>\n",
       "      <td>...</td>\n",
       "      <td>...</td>\n",
       "      <td>...</td>\n",
       "      <td>...</td>\n",
       "      <td>...</td>\n",
       "      <td>...</td>\n",
       "      <td>...</td>\n",
       "      <td>...</td>\n",
       "      <td>...</td>\n",
       "    </tr>\n",
       "    <tr>\n",
       "      <th>150097</th>\n",
       "      <td>12</td>\n",
       "      <td>2019-12-28</td>\n",
       "      <td>18:37:00</td>\n",
       "      <td>2019-12-28</td>\n",
       "      <td>18:50:00</td>\n",
       "      <td>nan</td>\n",
       "      <td>nan</td>\n",
       "      <td>719651</td>\n",
       "      <td>Subscriber</td>\n",
       "      <td>app</td>\n",
       "      <td>weekend</td>\n",
       "      <td>sat</td>\n",
       "    </tr>\n",
       "    <tr>\n",
       "      <th>150098</th>\n",
       "      <td>12</td>\n",
       "      <td>2019-12-28</td>\n",
       "      <td>18:37:00</td>\n",
       "      <td>2019-12-28</td>\n",
       "      <td>18:50:00</td>\n",
       "      <td>nan</td>\n",
       "      <td>nan</td>\n",
       "      <td>655411</td>\n",
       "      <td>Subscriber</td>\n",
       "      <td>app</td>\n",
       "      <td>weekend</td>\n",
       "      <td>sat</td>\n",
       "    </tr>\n",
       "    <tr>\n",
       "      <th>150099</th>\n",
       "      <td>17</td>\n",
       "      <td>2019-12-26</td>\n",
       "      <td>14:26:00</td>\n",
       "      <td>2019-12-26</td>\n",
       "      <td>14:43:00</td>\n",
       "      <td>nan</td>\n",
       "      <td>nan</td>\n",
       "      <td>936881</td>\n",
       "      <td>Subscriber</td>\n",
       "      <td>app</td>\n",
       "      <td>weekday</td>\n",
       "      <td>thu</td>\n",
       "    </tr>\n",
       "    <tr>\n",
       "      <th>150100</th>\n",
       "      <td>5</td>\n",
       "      <td>2019-12-30</td>\n",
       "      <td>20:36:00</td>\n",
       "      <td>2019-12-30</td>\n",
       "      <td>20:41:00</td>\n",
       "      <td>nan</td>\n",
       "      <td>nan</td>\n",
       "      <td>397539</td>\n",
       "      <td>Subscriber</td>\n",
       "      <td>app</td>\n",
       "      <td>weekday</td>\n",
       "      <td>mon</td>\n",
       "    </tr>\n",
       "    <tr>\n",
       "      <th>150101</th>\n",
       "      <td>67</td>\n",
       "      <td>2019-12-31</td>\n",
       "      <td>19:27:00</td>\n",
       "      <td>2019-12-31</td>\n",
       "      <td>20:34:00</td>\n",
       "      <td>nan</td>\n",
       "      <td>nan</td>\n",
       "      <td>662304</td>\n",
       "      <td>Subscriber</td>\n",
       "      <td>app</td>\n",
       "      <td>weekday</td>\n",
       "      <td>tue</td>\n",
       "    </tr>\n",
       "  </tbody>\n",
       "</table>\n",
       "<p>150102 rows × 12 columns</p>\n",
       "</div>"
      ],
      "text/plain": [
       "        duration_min  start_date start_time    end_date  end_time  \\\n",
       "0               1110  2019-12-31   14:29:00  2020-01-01  08:59:00   \n",
       "1                609  2019-12-31   21:53:00  2020-01-01  08:02:00   \n",
       "2                136  2019-12-31   23:50:00  2020-01-01  02:06:00   \n",
       "3                136  2019-12-31   23:49:00  2020-01-01  02:05:00   \n",
       "4                114  2019-12-31   22:51:00  2020-01-01  00:45:00   \n",
       "...              ...         ...        ...         ...       ...   \n",
       "150097            12  2019-12-28   18:37:00  2019-12-28  18:50:00   \n",
       "150098            12  2019-12-28   18:37:00  2019-12-28  18:50:00   \n",
       "150099            17  2019-12-26   14:26:00  2019-12-26  14:43:00   \n",
       "150100             5  2019-12-30   20:36:00  2019-12-30  20:41:00   \n",
       "150101            67  2019-12-31   19:27:00  2019-12-31  20:34:00   \n",
       "\n",
       "       start_station_id end_station_id  bike_id   user_type  \\\n",
       "0                   364            349    12085    Customer   \n",
       "1                    38              4     9477    Customer   \n",
       "2                    14              6    10420    Customer   \n",
       "3                    14              6     2065    Customer   \n",
       "4                     3            363    10219    Customer   \n",
       "...                 ...            ...      ...         ...   \n",
       "150097              nan            nan   719651  Subscriber   \n",
       "150098              nan            nan   655411  Subscriber   \n",
       "150099              nan            nan   936881  Subscriber   \n",
       "150100              nan            nan   397539  Subscriber   \n",
       "150101              nan            nan   662304  Subscriber   \n",
       "\n",
       "       rental_access_method  weekday  day  \n",
       "0                       NaN  weekday  tue  \n",
       "1                       NaN  weekday  tue  \n",
       "2                       NaN  weekday  tue  \n",
       "3                       NaN  weekday  tue  \n",
       "4                       NaN  weekday  tue  \n",
       "...                     ...      ...  ...  \n",
       "150097                  app  weekend  sat  \n",
       "150098                  app  weekend  sat  \n",
       "150099                  app  weekday  thu  \n",
       "150100                  app  weekday  mon  \n",
       "150101                  app  weekday  tue  \n",
       "\n",
       "[150102 rows x 12 columns]"
      ]
     },
     "execution_count": 19,
     "metadata": {},
     "output_type": "execute_result"
    }
   ],
   "source": [
    "df"
   ]
  },
  {
   "cell_type": "markdown",
   "metadata": {},
   "source": [
    "### What is the structure of your dataset?\n",
    "\n",
    "> We have 150,102 bike riders in 2019-12. The data provides 13 features (duration_min is based on duration_sec). Most of the data is string. I have dropped latitude and longitude columns, because I won't use them in the anaysis.\n",
    "\n",
    "### What is/are the main feature(s) of interest in your dataset?\n",
    "\n",
    "> I'm interested in the features that will help me predict the behaviour of bike rideres depending on their user_type. And to predict the number of riders on weekdays.\n",
    "\n",
    "### What features in the dataset do you think will help support your investigation into your feature(s) of interest?\n",
    "\n",
    "> Im most interested in duration_min,  user_type, and day. In general, I would like to see whether there is a relationship between these features."
   ]
  },
  {
   "cell_type": "markdown",
   "metadata": {},
   "source": [
    "## Univariate Exploration\n"
   ]
  },
  {
   "cell_type": "markdown",
   "metadata": {},
   "source": [
    "### Bike riders user type"
   ]
  },
  {
   "cell_type": "code",
   "execution_count": 20,
   "metadata": {},
   "outputs": [
    {
     "data": {
      "image/png": "[encoded data removed]",
      "text/plain": [
       "<Figure size 432x288 with 1 Axes>"
      ]
     },
     "metadata": {},
     "output_type": "display_data"
    }
   ],
   "source": [
    "user_types_counts= df.user_type.value_counts()\n",
    "plt.pie(user_types_counts,\n",
    "        labels= user_types_counts.index,\n",
    "        startangle= 90, autopct='%1.1f%%',\n",
    "        colors= [sb.color_palette('Paired')[1],sb.color_palette('Paired')[0]]);\n",
    "plt.title('User type of bike riders');"
   ]
  },
  {
   "cell_type": "markdown",
   "metadata": {},
   "source": [
    "> It seems that there isn't much difference in user type. However, our bike riders are 52% subscribers. On the other hand, 48% are customers."
   ]
  },
  {
   "cell_type": "markdown",
   "metadata": {},
   "source": [
    "### Time line of start_date, End_date"
   ]
  },
  {
   "cell_type": "code",
   "execution_count": 21,
   "metadata": {},
   "outputs": [
    {
     "data": {
      "image/png": "[encoded data removed]",
      "text/plain": [
       "<Figure size 864x504 with 2 Axes>"
      ]
     },
     "metadata": {
      "needs_background": "light"
     },
     "output_type": "display_data"
    }
   ],
   "source": [
    "plt.figure(figsize=(12,7), tight_layout= True)\n",
    "\n",
    "plt.subplot(2,1,1)\n",
    "plt.hist(data= df, x='start_date')\n",
    "plt.xticks(rotation= 15)\n",
    "plt.xlim(pd.to_datetime('2019-12-1'), pd.to_datetime('2020-1-1'))\n",
    "plt.title('Start date count')\n",
    "\n",
    "plt.subplot(2,1,2)\n",
    "plt.hist(data= df, x='end_date')\n",
    "plt.xticks(rotation= 15)\n",
    "plt.xlim(pd.to_datetime('2019-12-1'), pd.to_datetime('2020-1-1'))\n",
    "plt.title('End date count');"
   ]
  },
  {
   "cell_type": "markdown",
   "metadata": {},
   "source": [
    ">From the 2 histograms above, we can see that the two plots are almost identical. Which may indicate that bike riders rent and return the bikes within the same day."
   ]
  },
  {
   "cell_type": "markdown",
   "metadata": {},
   "source": [
    "### Trip duration"
   ]
  },
  {
   "cell_type": "code",
   "execution_count": 22,
   "metadata": {},
   "outputs": [
    {
     "data": {
      "image/png": "[encoded data removed]",
      "text/plain": [
       "<Figure size 720x216 with 1 Axes>"
      ]
     },
     "metadata": {
      "needs_background": "light"
     },
     "output_type": "display_data"
    }
   ],
   "source": [
    "plt.figure(figsize=(10,3))\n",
    "base_color= sb.color_palette()[0]\n",
    "sb.countplot(data= df, x='duration_min', color=base_color)\n",
    "plt.xlim((0,40))\n",
    "plt.title('Trip duration of bike riders')\n",
    "plt.ylabel('Count')\n",
    "plt.xlabel('Time (minutes)')\n",
    "plt.xticks([0,5,10,15,20,25,30,35,40,45],[0,5,10,15,20,25,30,35,40,45]);"
   ]
  },
  {
   "cell_type": "code",
   "execution_count": 23,
   "metadata": {},
   "outputs": [
    {
     "name": "stdout",
     "output_type": "stream",
     "text": [
      "The maximum duration of bike riding (mins):  15202\n",
      "The minimum duration of bike riding (mins):  1\n"
     ]
    }
   ],
   "source": [
    "print(\"The maximum duration of bike riding (mins): \", df.duration_min.max())\n",
    "print(\"The minimum duration of bike riding (mins): \", df.duration_min.min())"
   ]
  },
  {
   "cell_type": "markdown",
   "metadata": {},
   "source": [
    "As seen from the plot above. The most riders trip duration is about 5 minutes. Then, the plot skews to the right as the trip duration increases. However, there is a maximum rider who rode 15202 mins (253 hours). Probably, it is because he/she rented the bike for a couple of days as his/her transportation method. This, interpretation is possible for all riders rode more than the usual trip duration. "
   ]
  },
  {
   "cell_type": "markdown",
   "metadata": {},
   "source": [
    "### Day distribution of bike riders"
   ]
  },
  {
   "cell_type": "code",
   "execution_count": 24,
   "metadata": {},
   "outputs": [
    {
     "data": {
      "image/png": "[encoded data removed]",
      "text/plain": [
       "<Figure size 432x288 with 1 Axes>"
      ]
     },
     "metadata": {
      "needs_background": "light"
     },
     "output_type": "display_data"
    }
   ],
   "source": [
    "total= df.shape[0]\n",
    "max_day= df.day.value_counts().max()\n",
    "max_prop= max_day/total\n",
    "ticks= np.arange(0, max_prop, 0.01)\n",
    "ticks_string= ['{:0.2f}'.format(v) for v in ticks]\n",
    "\n",
    "sb.countplot(data= df, x='day', order= days, color= base_color)\n",
    "plt.xlabel('Day')\n",
    "plt.ylabel('Propotion')\n",
    "plt.yticks(ticks * total, ticks_string)\n",
    "plt.title('Proportion of bike riders in days of the week');"
   ]
  },
  {
   "cell_type": "code",
   "execution_count": 25,
   "metadata": {},
   "outputs": [
    {
     "data": {
      "text/plain": [
       "1.1192389175360755"
      ]
     },
     "execution_count": 25,
     "metadata": {},
     "output_type": "execute_result"
    }
   ],
   "source": [
    "df[df.duration_min>=60]['duration_min'].count()\n",
    "100*(df[df.duration_min>=60]['duration_min'].count()/df['duration_min'].count())"
   ]
  },
  {
   "cell_type": "markdown",
   "metadata": {},
   "source": [
    "From the the above plot, we can see about 20% of of bike riders rent bikes on Monday and Tuesday. While the least proportion is on Sunday and Saturday where 8% of the total number rent bikes. In general, the majority of bike riders rent bike on weekdays not weekends as I expected. One reason for this, is maybe some ride a bike to go to work, or nearest public transport station."
   ]
  },
  {
   "cell_type": "markdown",
   "metadata": {},
   "source": [
    "### Discuss the distribution(s) of your variable(s) of interest. Were there any unusual points? Did you need to perform any transformations?\n",
    "\n",
    ">  From the duration in minutes plot, **most of the bike rideres trip is 5 minutes**. This doesn't mean that we won't find riders rent a bike for more than 60 minutes. In fact, 1.1% of the riders rented a bike for more than 1 hour (60 mins). Thus, we have to **expect the absence a minor number of bikes**. Since some people rent it for hours and maybe days.\n",
    "\n",
    "> The time line of start and end date **doesn't indicate a pattern in the data**, but from the histogram we can see that the two plots are identical. As stated, this **means that riders rent and return the bike within the same day**.\n",
    "\n",
    "> While on the user type, I **expected more subscribers than normal customers, but there is not much difference between them**.\n",
    "\n",
    "> Finally, expect to have the majority of bike renters on weekdays not weekends.\n",
    "\n",
    "### Of the features you investigated, were there any unusual distributions? Did you perform any operations on the data to tidy, adjust, or change the form of the data? If so, why did you do this?\n",
    "\n",
    "> The only unusual thing is that there is a bike rider who rented a bike for about 10 days. The data remained the same, I have seperated the date and time in start_time end_time columns. In addition, I have created 2 new columns to indicate weekdays and days of the week. Also, I converted the duration from seconds to minutes. The reason because these modifications is I believe they will make the analysis easier."
   ]
  },
  {
   "cell_type": "markdown",
   "metadata": {},
   "source": [
    "## Bivariate Exploration"
   ]
  },
  {
   "cell_type": "markdown",
   "metadata": {},
   "source": [
    "### Does user type affects the trip duration?\n",
    "In contrast, can we predict from subscribers to ride a bike for a longer time? or there isn't a relation between the user type and trip duration. Since the proportion of subscribers and customers is almost the same, we can inspect it."
   ]
  },
  {
   "cell_type": "code",
   "execution_count": 26,
   "metadata": {},
   "outputs": [
    {
     "data": {
      "image/png": "[encoded data removed]",
      "text/plain": [
       "<Figure size 432x288 with 1 Axes>"
      ]
     },
     "metadata": {
      "needs_background": "light"
     },
     "output_type": "display_data"
    }
   ],
   "source": [
    "sb.boxplot(data = df, x = 'user_type', y = 'duration_min', order= ['Subscriber','Customer'], color= base_color)\n",
    "plt.xlabel('User Type')\n",
    "plt.ylabel('Duration (mins)')\n",
    "plt.ylim(0,35) #To zoom in, there are values over 1000 minutes\n",
    "plt.title('Relationship between user type and duration');"
   ]
  },
  {
   "cell_type": "markdown",
   "metadata": {},
   "source": [
    "Even though 52% of the riders are subscribed, yet customers do spend a little more time on their trip than subscribers. Maybe subscibers take less time because they got used to ride the bike? or the distance to destination is short which made them subscribe? This need further investigation and more infromation that we don't have currently."
   ]
  },
  {
   "cell_type": "markdown",
   "metadata": {},
   "source": [
    "### Relation between day of the week and user type"
   ]
  },
  {
   "cell_type": "code",
   "execution_count": 27,
   "metadata": {},
   "outputs": [
    {
     "data": {
      "text/plain": [
       "<matplotlib.legend.Legend at 0x1e903af3a88>"
      ]
     },
     "execution_count": 27,
     "metadata": {},
     "output_type": "execute_result"
    },
    {
     "data": {
      "image/png": "[encoded data removed]",
      "text/plain": [
       "<Figure size 504x360 with 1 Axes>"
      ]
     },
     "metadata": {
      "needs_background": "light"
     },
     "output_type": "display_data"
    }
   ],
   "source": [
    "plt.figure(figsize= (7,5))\n",
    "sb.countplot(data= df, hue='user_type', x= 'day', palette= 'Blues')\n",
    "plt.legend(bbox_to_anchor=(1.05, 1), loc=2)"
   ]
  },
  {
   "cell_type": "markdown",
   "metadata": {},
   "source": [
    "It seems like we have more subscribers each day than customers."
   ]
  },
  {
   "cell_type": "markdown",
   "metadata": {},
   "source": [
    "### Trip duration and weekdays"
   ]
  },
  {
   "cell_type": "code",
   "execution_count": 28,
   "metadata": {},
   "outputs": [
    {
     "data": {
      "image/png": "[encoded data removed]",
      "text/plain": [
       "<Figure size 432x288 with 1 Axes>"
      ]
     },
     "metadata": {
      "needs_background": "light"
     },
     "output_type": "display_data"
    }
   ],
   "source": [
    "sb.boxplot(data= df, x='day', y='duration_min', color= base_color, order= days)\n",
    "plt.ylim(0,35)\n",
    "plt.xlabel('Day of week')\n",
    "plt.ylabel('Duration (mins)')\n",
    "plt.title('Trip duration on week days');"
   ]
  },
  {
   "cell_type": "markdown",
   "metadata": {},
   "source": [
    "The median of duration is almost the same during all days of the week. However, people who ride at weekends (Saturday and Sunday) tend to spend a a little more time riding a bike than people who rent on weekdays."
   ]
  },
  {
   "cell_type": "markdown",
   "metadata": {},
   "source": [
    "### Talk about some of the relationships you observed in this part of the investigation. How did the feature(s) of interest vary with other features in the dataset?\n",
    "\n",
    "> Custromers' trip is more likely to take more time than subscribers. Maybe because they are beginners or hasn't gotten used to ride a bike.\n",
    "\n",
    "> Bike riders who rent on weekends tend to spend a couple more minutes in their trip than riders who rent on weekdays.\n",
    "\n",
    "### Did you observe any interesting relationships between the other features (not the main feature(s) of interest)?\n",
    "\n",
    "> There isn't a strong relationship between the features. "
   ]
  },
  {
   "cell_type": "markdown",
   "metadata": {},
   "source": [
    "## Multivariate Exploration"
   ]
  },
  {
   "cell_type": "code",
   "execution_count": 29,
   "metadata": {},
   "outputs": [
    {
     "name": "stderr",
     "output_type": "stream",
     "text": [
      "C:\\Users\\mohan\\anaconda3\\lib\\site-packages\\seaborn\\axisgrid.py:243: UserWarning: The `size` parameter has been renamed to `height`; please update your code.\n",
      "  warnings.warn(msg, UserWarning)\n"
     ]
    },
    {
     "data": {
      "text/plain": [
       "<seaborn.axisgrid.FacetGrid at 0x1e9000d73c8>"
      ]
     },
     "execution_count": 29,
     "metadata": {},
     "output_type": "execute_result"
    },
    {
     "data": {
      "image/png": "[encoded data removed]",
      "text/plain": [
       "<Figure size 728x360 with 2 Axes>"
      ]
     },
     "metadata": {
      "needs_background": "light"
     },
     "output_type": "display_data"
    }
   ],
   "source": [
    "g= sb.FacetGrid(data= df, col= 'user_type', size=5)\n",
    "g.map(sb.boxplot, 'day', 'duration_min', order= days)\n",
    "plt.ylim(0,35)\n",
    "g.add_legend()"
   ]
  },
  {
   "cell_type": "markdown",
   "metadata": {},
   "source": [
    "### Talk about some of the relationships you observed in this part of the investigation. Were there features that strengthened each other in terms of looking at your feature(s) of interest?\n",
    "\n",
    "> Customers on weekends tend to spend more time than subscirbers or any other days. Also, the trip duration of subscribers is consistent on weekdays, which may indicate that they are willing to use a bike every day to go to the same destination.\n",
    "\n",
    "### Were there any interesting or surprising interactions between features?\n",
    "\n",
    "> We may say that people subscribe when they are planning to use the bike daily."
   ]
  },
  {
   "cell_type": "markdown",
   "metadata": {},
   "source": [
    "## References\n",
    "- [Pie chart documentation](https://matplotlib.org/3.1.1/gallery/pie_and_polar_charts/pie_features.html)\n",
    "- [Rounding float in a series](https://www.geeksforgeeks.org/python-pandas-dataframe-round/#:~:text=Pandas%20is%20one%20of%20those,different%20columns%20by%20different%20places.)\n",
    "- [.dt.dayofweek number encodings](https://pandas.pydata.org/pandas-docs/stable/reference/api/pandas.Series.dt.dayofweek.html#pandas.Series.dt.dayofweek)\n",
    "- [Weekends and weekdays in San Francisco](https://www.caltrain.com/schedules.html)\n",
    "- [Extracting weekday from a pd.Series](https://stackoverflow.com/questions/32278728/convert-dataframe-date-row-to-a-weekend-not-weekend-value/32280195)\n",
    "- [plt.figure documentation](https://matplotlib.org/3.3.1/api/_as_gen/matplotlib.pyplot.figure.html)"
   ]
  },
  {
   "cell_type": "code",
   "execution_count": 30,
   "metadata": {},
   "outputs": [],
   "source": [
    "df.to_csv('Bike Riders cleaned data 2019-12.csv', index=False)"
   ]
  }
 ],
 "metadata": {
  "kernelspec": {
   "display_name": "Python 3",
   "language": "python",
   "name": "python3"
  },
  "language_info": {
   "codemirror_mode": {
    "name": "ipython",
    "version": 3
   },
   "file_extension": ".py",
   "mimetype": "text/x-python",
   "name": "python",
   "nbconvert_exporter": "python",
   "pygments_lexer": "ipython3",
   "version": "3.7.7"
  }
 },
 "nbformat": 4,
 "nbformat_minor": 2
}
